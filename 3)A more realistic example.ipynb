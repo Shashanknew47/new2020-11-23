{
 "metadata": {
  "language_info": {
   "codemirror_mode": {
    "name": "ipython",
    "version": 3
   },
   "file_extension": ".py",
   "mimetype": "text/x-python",
   "name": "python",
   "nbconvert_exporter": "python",
   "pygments_lexer": "ipython3",
   "version": "3.8.5-final"
  },
  "orig_nbformat": 2,
  "kernelspec": {
   "name": "python3",
   "display_name": "Python 3.8.5 64-bit",
   "metadata": {
    "interpreter": {
     "hash": "2db524e06e9f5f4ffedc911c917cb75e12dbc923643829bf417064a77eb14d37"
    }
   }
  }
 },
 "nbformat": 4,
 "nbformat_minor": 2,
 "cells": [
  {
   "cell_type": "code",
   "execution_count": null,
   "metadata": {},
   "outputs": [],
   "source": [
    "\"\"\"\n",
    "The first thing Person class record basic info about people - to fill out class record fields.\n",
    "\"\"\"\n",
    "# An record field initialization\n",
    "class Person:\n",
    "    def __init__(self,name,job,pay):         #Contructor takes 3 arguments\n",
    "        self.name = name                     # Fill out fields when created\n",
    "        self.job = job                       # Self is the new instance object. \n",
    "        self.pay = pay\n",
    "\n",
    "\"\"\"\n",
    "__init__ is called autometically when an instance is made and has a special first argument.\n",
    "\"\"\"\n"
   ]
  },
  {
   "cell_type": "code",
   "execution_count": 11,
   "metadata": {},
   "outputs": [
    {
     "output_type": "stream",
     "name": "stdout",
     "text": [
      "dev\n"
     ]
    }
   ],
   "source": [
    "\"Lets Make some argument opstional\"\n",
    "class Person:\n",
    "    def __init__(self,name,job=None,pay=0):         #Contructor takes 3 arguments\n",
    "        self.name = name                     # Fill out fields when created\n",
    "        self.job = job                       # Self is the new instance object. \n",
    "        self.pay = pay\n",
    "\n",
    "\"In this function we just need to fill name artument other 2 we have made optional\"\n",
    "\n",
    "Bob = Person('Bob Smith')\n",
    "Sue = Person('Sue Jones0',job='dev',pay=28888)\n",
    "print(Sue.job)\n",
    "\n",
    "\"\"\"\n",
    "Here Bob accepts the defauts for job and pay, but Sue provides values explicitly. \n",
    "__init__ is a normal function, supporting everything about functionss - including\n",
    "both defauts and pass-by-name keyward arguments.\n",
    "\"\"\"\n",
    "None"
   ]
  },
  {
   "cell_type": "code",
   "execution_count": null,
   "metadata": {},
   "outputs": [],
   "source": []
  }
 ]
}